{
  "cells": [
    {
      "cell_type": "code",
      "execution_count": null,
      "metadata": {
        "colab": {
          "base_uri": "https://localhost:8080/"
        },
        "id": "reOWwWMlQUsY",
        "outputId": "c994f06a-7717-40c2-ef3f-44aed354a737"
      },
      "outputs": [],
      "source": [
        "!pip install ultralytics"
      ]
    },
    {
      "cell_type": "code",
      "execution_count": null,
      "metadata": {
        "colab": {
          "base_uri": "https://localhost:8080/",
          "height": 358
        },
        "id": "fYdvLzBaQF1p",
        "outputId": "0f3e7331-2a09-4edc-b630-6b7ecedacfae"
      },
      "outputs": [],
      "source": [
        "import os\n",
        "import zipfile\n",
        "\n",
        "with zipfile.ZipFile('/content/personal_sample.zip', 'r') as zip_ref:\n",
        "    zip_ref.extractall('data')\n",
        "    print('data 압축 해제 완료')"
      ]
    },
    {
      "cell_type": "code",
      "execution_count": null,
      "metadata": {
        "colab": {
          "base_uri": "https://localhost:8080/"
        },
        "id": "jUQOyIviPQ7b",
        "outputId": "abf8c60a-7bb7-4db5-b195-70f5f3ccb84c"
      },
      "outputs": [],
      "source": [
        "from ultralytics import YOLO, settings\n",
        "model = YOLO(\"yolo11n.pt\")"
      ]
    },
    {
      "cell_type": "code",
      "execution_count": null,
      "metadata": {
        "colab": {
          "base_uri": "https://localhost:8080/"
        },
        "id": "manpLJzZPe2T",
        "outputId": "5c7970d6-b821-4eee-fa51-c77cb17e2d68"
      },
      "outputs": [],
      "source": [
        "search_space = {\n",
        "    \"lr0\": [1e-4, 1e-2],          # 학습률\n",
        "    \"momentum\": [0.8, 0.98],      # 모멘텀\n",
        "    \"weight_decay\": [0, 0.001],   # 가중치 감소\n",
        "}\n",
        "model.tune(\n",
        "    data=\"/content/data/data.yaml\",  # 샘플 데이터셋 경로\n",
        "    epochs=5,              # 각 조합에 대해 학습할 Epoch 수\n",
        "    iterations=20,          # 하이퍼파라미터 조합 수\n",
        "    optimizer=\"AdamW\",      # 옵티마이저\n",
        "    space=search_space,     # 탐색 공간\n",
        "    plots=True,             # 결과 시각화\n",
        "    save=True,              # 결과 저장\n",
        "    val=True                # 검증 데이터 사용\n",
        ")"
      ]
    },
    {
      "cell_type": "code",
      "execution_count": null,
      "metadata": {
        "colab": {
          "base_uri": "https://localhost:8080/",
          "height": 226
        },
        "id": "yHi0mdKaqKaR",
        "outputId": "51bc2a5b-9621-4b9c-c872-05ef39c9b71a"
      },
      "outputs": [],
      "source": [
        "model.train(model = '/content/yolo11n.pt',\n",
        "            data = '/content/data/data.yaml',\n",
        "            epochs = 50,\n",
        "            imgsz = 640,\n",
        "            batch = 32\n",
        "            )"
      ]
    },
    {
      "cell_type": "code",
      "execution_count": null,
      "metadata": {
        "colab": {
          "base_uri": "https://localhost:8080/"
        },
        "id": "NEAIJfLkP1xW",
        "outputId": "4b27aa10-27b7-4350-8142-82b0a2c611f9"
      },
      "outputs": [],
      "source": [
        "model.predict(\"/content/130729940.1.jpg\", save=True, imgsz=(640, 640), conf=0.1)"
      ]
    },
    {
      "cell_type": "code",
      "execution_count": null,
      "metadata": {
        "colab": {
          "base_uri": "https://localhost:8080/",
          "height": 923
        },
        "id": "n86TSVCP2nGa",
        "outputId": "66f38660-8748-4b5a-faa8-5d37a74f1857"
      },
      "outputs": [],
      "source": [
        "model.export(format='onnx')"
      ]
    }
  ],
  "metadata": {
    "accelerator": "GPU",
    "colab": {
      "gpuType": "L4",
      "machine_shape": "hm",
      "provenance": []
    },
    "kernelspec": {
      "display_name": "Python 3",
      "name": "python3"
    },
    "language_info": {
      "name": "python"
    }
  },
  "nbformat": 4,
  "nbformat_minor": 0
}
