{
  "cells": [
    {
      "cell_type": "code",
      "execution_count": null,
      "metadata": {
        "colab": {
          "base_uri": "https://localhost:8080/"
        },
        "id": "ruyqeLc_tkmb",
        "outputId": "63e352b6-a3f0-4ddd-da11-edc90513f689"
      },
      "outputs": [],
      "source": [
        "!pip install ultralytics"
      ]
    },
    {
      "cell_type": "code",
      "execution_count": null,
      "metadata": {
        "colab": {
          "base_uri": "https://localhost:8080/"
        },
        "id": "YjqGV-YmtmIq",
        "outputId": "8fca0baa-f0d6-421c-fd73-da8210b988be"
      },
      "outputs": [],
      "source": [
        "import os\n",
        "import zipfile\n",
        "\n",
        "with zipfile.ZipFile('/content/face_sample.zip', 'r') as zip_ref:\n",
        "    zip_ref.extractall('data')\n",
        "    print('data 압축 해제 완료')"
      ]
    },
    {
      "cell_type": "code",
      "execution_count": null,
      "metadata": {
        "id": "-DRUFlVvtnMU"
      },
      "outputs": [],
      "source": [
        "from ultralytics import YOLO, settings\n",
        "model = YOLO(\"yolo11n.pt\")"
      ]
    },
    {
      "cell_type": "code",
      "execution_count": null,
      "metadata": {
        "colab": {
          "base_uri": "https://localhost:8080/"
        },
        "id": "Ne_iNbQhtoK5",
        "outputId": "c92b127a-5ee4-4144-8d7f-91aade26900a"
      },
      "outputs": [],
      "source": [
        "search_space = {\n",
        "    \"lr0\": [1e-4, 1e-2],          # 학습률\n",
        "    \"momentum\": [0.8, 0.98],      # 모멘텀\n",
        "    \"weight_decay\": [0, 0.001],   # 가중치 감소\n",
        "}\n",
        "model.tune(\n",
        "    data=\"/content/data/data.yaml\",  # 샘플 데이터셋 경로\n",
        "    epochs=5,              # 각 조합에 대해 학습할 Epoch 수\n",
        "    iterations=20,          # 하이퍼파라미터 조합 수\n",
        "    optimizer=\"AdamW\",      # 옵티마이저\n",
        "    space=search_space,     # 탐색 공간\n",
        "    plots=True,             # 결과 시각화\n",
        "    save=True,              # 결과 저장\n",
        "    val=True                # 검증 데이터 사용\n",
        ")"
      ]
    },
    {
      "cell_type": "code",
      "execution_count": null,
      "metadata": {
        "colab": {
          "base_uri": "https://localhost:8080/"
        },
        "id": "moZPc9mWtpiY",
        "outputId": "03ce6c55-03db-486b-e98f-6acbd565914e"
      },
      "outputs": [],
      "source": [
        "model.train(model = '/content/yolo11n.pt',\n",
        "            data = '/content/data/data.yaml',\n",
        "            epochs = 50,\n",
        "            imgsz = 640,\n",
        "            batch = 32\n",
        "            )"
      ]
    },
    {
      "cell_type": "code",
      "execution_count": null,
      "metadata": {
        "colab": {
          "base_uri": "https://localhost:8080/"
        },
        "id": "Hqa_WizEtqqn",
        "outputId": "0954eeb3-ba2d-4d08-98f5-6f59d3ad60e2"
      },
      "outputs": [],
      "source": [
        "model.predict(\"/content/7652573422_494354581_6d0c7a1f1b8439c672904dd8ff3a619d.jpg\", save=True, imgsz=(640, 640), conf=0.1)"
      ]
    },
    {
      "cell_type": "code",
      "execution_count": null,
      "metadata": {
        "colab": {
          "base_uri": "https://localhost:8080/",
          "height": 904
        },
        "id": "_nWAbK0Vtr65",
        "outputId": "4141808c-9b1b-4559-b854-4006610ca6b5"
      },
      "outputs": [],
      "source": [
        "model.export(format='onnx')"
      ]
    }
  ],
  "metadata": {
    "accelerator": "GPU",
    "colab": {
      "gpuType": "L4",
      "machine_shape": "hm",
      "provenance": []
    },
    "kernelspec": {
      "display_name": "Python 3",
      "name": "python3"
    },
    "language_info": {
      "name": "python"
    }
  },
  "nbformat": 4,
  "nbformat_minor": 0
}
