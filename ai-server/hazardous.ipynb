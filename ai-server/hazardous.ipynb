{
  "cells": [
    {
      "cell_type": "code",
      "execution_count": 1,
      "metadata": {
        "id": "1zJnp6_x9pWG"
      },
      "outputs": [],
      "source": [
        "import os\n",
        "os.environ['CUDA_LAUNCH_BLOCKING'] = \"1\"\n",
        "os.environ[\"CUDA_VISIBLE_DEVICES\"] = \"0\""
      ]
    },
    {
      "cell_type": "code",
      "execution_count": null,
      "metadata": {
        "colab": {
          "base_uri": "https://localhost:8080/"
        },
        "id": "reOWwWMlQUsY",
        "outputId": "809abedc-e23f-4213-8ca7-a8e87d9f240b"
      },
      "outputs": [],
      "source": [
        "!pip install ultralytics"
      ]
    },
    {
      "cell_type": "markdown",
      "metadata": {
        "id": "KmQFu6Eayhnq"
      },
      "source": [
        "# **클래스 번호 매핑 문제 해결하기**"
      ]
    },
    {
      "cell_type": "code",
      "execution_count": null,
      "metadata": {
        "id": "BbL5sVa67kGx"
      },
      "outputs": [],
      "source": [
        "import glob\n",
        "import shutil\n",
        "import numpy as np\n",
        "import os\n"
      ]
    },
    {
      "cell_type": "code",
      "execution_count": null,
      "metadata": {
        "colab": {
          "base_uri": "https://localhost:8080/"
        },
        "id": "c48h8o5EyhZn",
        "outputId": "1c5bc3f5-c0c8-45fa-8cb9-0b372fa72ce3"
      },
      "outputs": [],
      "source": [
        "import os\n",
        "import zipfile\n",
        "with zipfile.ZipFile('blood.zip', 'r') as zip_ref:\n",
        "    zip_ref.extractall('blood')\n",
        "    print('test 압축 해제 완료')"
      ]
    },
    {
      "cell_type": "code",
      "execution_count": null,
      "metadata": {
        "colab": {
          "base_uri": "https://localhost:8080/"
        },
        "id": "BK0HBC00y2-n",
        "outputId": "a46ab90c-bad6-4687-bddc-4eabdc348176"
      },
      "outputs": [],
      "source": [
        "import os\n",
        "import zipfile\n",
        "with zipfile.ZipFile('alcohol.zip', 'r') as zip_ref:\n",
        "    zip_ref.extractall('drink')\n",
        "    print('test 압축 해제 완료')"
      ]
    },
    {
      "cell_type": "code",
      "execution_count": null,
      "metadata": {
        "colab": {
          "base_uri": "https://localhost:8080/"
        },
        "id": "XYDrlT7sy22L",
        "outputId": "892e9e4f-0d6a-4741-d0de-9f6c9844702f"
      },
      "outputs": [],
      "source": [
        "import os\n",
        "import zipfile\n",
        "with zipfile.ZipFile('cigarette.zip', 'r') as zip_ref:\n",
        "    zip_ref.extractall('ciga')\n",
        "    print('test 압축 해제 완료')"
      ]
    },
    {
      "cell_type": "code",
      "execution_count": null,
      "metadata": {
        "colab": {
          "base_uri": "https://localhost:8080/"
        },
        "id": "YTgFmfESy2uM",
        "outputId": "75c5d020-0ea5-4e2f-ce2b-95c2b2b48b68"
      },
      "outputs": [],
      "source": [
        "import os\n",
        "import zipfile\n",
        "with zipfile.ZipFile('gun.zip', 'r') as zip_ref:\n",
        "    zip_ref.extractall('gun')\n",
        "    print('test 압축 해제 완료')"
      ]
    },
    {
      "cell_type": "code",
      "execution_count": null,
      "metadata": {
        "colab": {
          "base_uri": "https://localhost:8080/"
        },
        "id": "d4BV1QhPy2kQ",
        "outputId": "78595306-6494-4133-8b58-7a70e81ee071"
      },
      "outputs": [],
      "source": [
        "import os\n",
        "import zipfile\n",
        "with zipfile.ZipFile('knife.zip', 'r') as zip_ref:\n",
        "    zip_ref.extractall('knife')\n",
        "    print('test 압축 해제 완료')"
      ]
    },
    {
      "cell_type": "markdown",
      "metadata": {
        "id": "DHsEVT6o9D9L"
      },
      "source": [
        "# **knife**"
      ]
    },
    {
      "cell_type": "code",
      "execution_count": null,
      "metadata": {
        "id": "10g8_B7ZzXgx"
      },
      "outputs": [],
      "source": [
        "import glob\n",
        "\n",
        "txt_file = sorted(glob.glob('knife/train/labels/*.txt'))\n",
        "len(txt_file)\n",
        "\n",
        "for i in range(len(txt_file)):\n",
        "    with open(txt_file[i], 'r') as fr:\n",
        "        lines = fr.readlines()\n",
        "\n",
        "    # 각 줄의 첫 번째 레이블을 '1'로 대체\n",
        "    modified_lines = []\n",
        "    for line in lines:\n",
        "        a = line.split()\n",
        "        if a:  # 줄이 비어있지 않다면\n",
        "            a[0] = '1'  # 첫 번째 항목(레이블)을 '1'로 변경\n",
        "            modified_line = ' '.join(a) + '\\n'  # 다시 줄을 합침\n",
        "            modified_lines.append(modified_line)\n",
        "\n",
        "    # 파일에 변경 사항 쓰기\n",
        "    with open(txt_file[i], 'w') as fw:\n",
        "        fw.writelines(modified_lines)\n"
      ]
    },
    {
      "cell_type": "code",
      "execution_count": null,
      "metadata": {
        "id": "vRwnoJz69Ofn"
      },
      "outputs": [],
      "source": [
        "import glob\n",
        "\n",
        "txt_file = sorted(glob.glob('knife/valid/labels/*.txt'))\n",
        "len(txt_file)\n",
        "\n",
        "for i in range(len(txt_file)):\n",
        "    with open(txt_file[i], 'r') as fr:\n",
        "        lines = fr.readlines()\n",
        "\n",
        "    # 각 줄의 첫 번째 레이블을 '1'로 대체\n",
        "    modified_lines = []\n",
        "    for line in lines:\n",
        "        a = line.split()\n",
        "        if a:  # 줄이 비어있지 않다면\n",
        "            a[0] = '1'  # 첫 번째 항목(레이블)을 '1'로 변경\n",
        "            modified_line = ' '.join(a) + '\\n'  # 다시 줄을 합침\n",
        "            modified_lines.append(modified_line)\n",
        "\n",
        "    # 파일에 변경 사항 쓰기\n",
        "    with open(txt_file[i], 'w') as fw:\n",
        "        fw.writelines(modified_lines)\n"
      ]
    },
    {
      "cell_type": "markdown",
      "metadata": {
        "id": "nlWdA1o49IR0"
      },
      "source": [
        "# **blood**"
      ]
    },
    {
      "cell_type": "code",
      "execution_count": null,
      "metadata": {
        "id": "rI7L64H34L-2"
      },
      "outputs": [],
      "source": [
        "import glob\n",
        "\n",
        "txt_file = sorted(glob.glob('blood/train/labels/*.txt'))\n",
        "len(txt_file)\n",
        "\n",
        "for i in range(len(txt_file)):\n",
        "    with open(txt_file[i], 'r') as fr:\n",
        "        lines = fr.readlines()\n",
        "\n",
        "    # 각 줄의 첫 번째 레이블을 '1'로 대체\n",
        "    modified_lines = []\n",
        "    for line in lines:\n",
        "        a = line.split()\n",
        "        if a:  # 줄이 비어있지 않다면\n",
        "            a[0] = '2'  # 첫 번째 항목(레이블)을 '2'로 변경\n",
        "            modified_line = ' '.join(a) + '\\n'  # 다시 줄을 합침\n",
        "            modified_lines.append(modified_line)\n",
        "\n",
        "    # 파일에 변경 사항 쓰기\n",
        "    with open(txt_file[i], 'w') as fw:\n",
        "        fw.writelines(modified_lines)\n"
      ]
    },
    {
      "cell_type": "code",
      "execution_count": null,
      "metadata": {
        "id": "2N0ZICj49W1y"
      },
      "outputs": [],
      "source": [
        "import glob\n",
        "\n",
        "txt_file = sorted(glob.glob('blood/valid/labels/*.txt'))\n",
        "len(txt_file)\n",
        "\n",
        "for i in range(len(txt_file)):\n",
        "    with open(txt_file[i], 'r') as fr:\n",
        "        lines = fr.readlines()\n",
        "\n",
        "    # 각 줄의 첫 번째 레이블을 '1'로 대체\n",
        "    modified_lines = []\n",
        "    for line in lines:\n",
        "        a = line.split()\n",
        "        if a:  # 줄이 비어있지 않다면\n",
        "            a[0] = '2'  # 첫 번째 항목(레이블)을 '2'로 변경\n",
        "            modified_line = ' '.join(a) + '\\n'  # 다시 줄을 합침\n",
        "            modified_lines.append(modified_line)\n",
        "\n",
        "    # 파일에 변경 사항 쓰기\n",
        "    with open(txt_file[i], 'w') as fw:\n",
        "        fw.writelines(modified_lines)\n"
      ]
    },
    {
      "cell_type": "markdown",
      "metadata": {
        "id": "C6IBmFtQ9J2D"
      },
      "source": [
        "# **drink**"
      ]
    },
    {
      "cell_type": "code",
      "execution_count": null,
      "metadata": {
        "id": "vwAIwjJS4hF7"
      },
      "outputs": [],
      "source": [
        "import glob\n",
        "\n",
        "txt_file = sorted(glob.glob('drink/train/labels/*.txt'))\n",
        "len(txt_file)\n",
        "\n",
        "for i in range(len(txt_file)):\n",
        "    with open(txt_file[i], 'r') as fr:\n",
        "        lines = fr.readlines()\n",
        "\n",
        "    # 각 줄의 첫 번째 레이블을 '1'로 대체\n",
        "    modified_lines = []\n",
        "    for line in lines:\n",
        "        a = line.split()\n",
        "        if a:  # 줄이 비어있지 않다면\n",
        "            a[0] = '3'  # 첫 번째 항목(레이블)을 '2'로 변경\n",
        "            modified_line = ' '.join(a) + '\\n'  # 다시 줄을 합침\n",
        "            modified_lines.append(modified_line)\n",
        "\n",
        "    # 파일에 변경 사항 쓰기\n",
        "    with open(txt_file[i], 'w') as fw:\n",
        "        fw.writelines(modified_lines)\n"
      ]
    },
    {
      "cell_type": "code",
      "execution_count": null,
      "metadata": {
        "id": "02teuNb49aVy"
      },
      "outputs": [],
      "source": [
        "import glob\n",
        "\n",
        "txt_file = sorted(glob.glob('drink/valid/labels/*.txt'))\n",
        "len(txt_file)\n",
        "\n",
        "for i in range(len(txt_file)):\n",
        "    with open(txt_file[i], 'r') as fr:\n",
        "        lines = fr.readlines()\n",
        "\n",
        "    # 각 줄의 첫 번째 레이블을 '1'로 대체\n",
        "    modified_lines = []\n",
        "    for line in lines:\n",
        "        a = line.split()\n",
        "        if a:  # 줄이 비어있지 않다면\n",
        "            a[0] = '3'  # 첫 번째 항목(레이블)을 '2'로 변경\n",
        "            modified_line = ' '.join(a) + '\\n'  # 다시 줄을 합침\n",
        "            modified_lines.append(modified_line)\n",
        "\n",
        "    # 파일에 변경 사항 쓰기\n",
        "    with open(txt_file[i], 'w') as fw:\n",
        "        fw.writelines(modified_lines)\n"
      ]
    },
    {
      "cell_type": "markdown",
      "metadata": {
        "id": "VDaeHhcL9LqV"
      },
      "source": [
        "# **ciga**"
      ]
    },
    {
      "cell_type": "code",
      "execution_count": null,
      "metadata": {
        "id": "vofcC4UA4hmY"
      },
      "outputs": [],
      "source": [
        "import glob\n",
        "\n",
        "txt_file = sorted(glob.glob('ciga/train/labels/*.txt'))\n",
        "len(txt_file)\n",
        "\n",
        "for i in range(len(txt_file)):\n",
        "    with open(txt_file[i], 'r') as fr:\n",
        "        lines = fr.readlines()\n",
        "\n",
        "    # 각 줄의 첫 번째 레이블을 '1'로 대체\n",
        "    modified_lines = []\n",
        "    for line in lines:\n",
        "        a = line.split()\n",
        "        if a:  # 줄이 비어있지 않다면\n",
        "            a[0] = '4'  # 첫 번째 항목(레이블)을 '2'로 변경\n",
        "            modified_line = ' '.join(a) + '\\n'  # 다시 줄을 합침\n",
        "            modified_lines.append(modified_line)\n",
        "\n",
        "    # 파일에 변경 사항 쓰기\n",
        "    with open(txt_file[i], 'w') as fw:\n",
        "        fw.writelines(modified_lines)\n"
      ]
    },
    {
      "cell_type": "code",
      "execution_count": null,
      "metadata": {
        "id": "ef5Fk3fb9esG"
      },
      "outputs": [],
      "source": [
        "import glob\n",
        "\n",
        "txt_file = sorted(glob.glob('ciga/valid/labels/*.txt'))\n",
        "len(txt_file)\n",
        "\n",
        "for i in range(len(txt_file)):\n",
        "    with open(txt_file[i], 'r') as fr:\n",
        "        lines = fr.readlines()\n",
        "\n",
        "    # 각 줄의 첫 번째 레이블을 '1'로 대체\n",
        "    modified_lines = []\n",
        "    for line in lines:\n",
        "        a = line.split()\n",
        "        if a:  # 줄이 비어있지 않다면\n",
        "            a[0] = '4'  # 첫 번째 항목(레이블)을 '2'로 변경\n",
        "            modified_line = ' '.join(a) + '\\n'  # 다시 줄을 합침\n",
        "            modified_lines.append(modified_line)\n",
        "\n",
        "    # 파일에 변경 사항 쓰기\n",
        "    with open(txt_file[i], 'w') as fw:\n",
        "        fw.writelines(modified_lines)\n"
      ]
    },
    {
      "cell_type": "markdown",
      "metadata": {
        "id": "3KUhArLX9jIe"
      },
      "source": [
        "# **이후**"
      ]
    },
    {
      "cell_type": "code",
      "execution_count": null,
      "metadata": {
        "id": "zvbiQZVl4RqW"
      },
      "outputs": [],
      "source": [
        "  #  \"/content/gun\": 0,  # gun -> 0\n",
        "  #   \"/content/knife\": 1,  # knife -> 1\n",
        "  #   \"/content/Blood\": 2,  # blood -> 2\n",
        "  #   \"/content/Drink\": 3,  # alcohol -> 3\n",
        "  #   \"/content/ciga\": 4   # cigarette -> 4"
      ]
    },
    {
      "cell_type": "code",
      "execution_count": null,
      "metadata": {
        "colab": {
          "base_uri": "https://localhost:8080/"
        },
        "id": "ITzwVEB64uee",
        "outputId": "2cf6b935-d754-424d-eb78-d6d838e99da3"
      },
      "outputs": [],
      "source": [
        "import os\n",
        "import shutil\n",
        "\n",
        "# 원본 폴더 경로\n",
        "source_folder = \"/content/ciga\"\n",
        "# 복사 대상 폴더 경로\n",
        "destination_folder = \"/content/merge\"\n",
        "\n",
        "# 대상 폴더가 없으면 생성\n",
        "if not os.path.exists(destination_folder):\n",
        "    os.makedirs(destination_folder)\n",
        "\n",
        "# 원본 폴더의 모든 내용 복사\n",
        "for item in os.listdir(source_folder):\n",
        "    source_path = os.path.join(source_folder, item)\n",
        "    destination_path = os.path.join(destination_folder, item)\n",
        "\n",
        "    if os.path.isdir(source_path):\n",
        "        # 폴더를 복사\n",
        "        shutil.copytree(source_path, destination_path, dirs_exist_ok=True)\n",
        "        print(f\"Copied folder: {source_path} -> {destination_path}\")\n",
        "    else:\n",
        "        # 파일을 복사\n",
        "        shutil.copy2(source_path, destination_path)\n",
        "        print(f\"Copied file: {source_path} -> {destination_path}\")\n",
        "\n",
        "print(f\"All contents from {source_folder} have been copied to {destination_folder}\")"
      ]
    },
    {
      "cell_type": "code",
      "execution_count": null,
      "metadata": {
        "colab": {
          "base_uri": "https://localhost:8080/"
        },
        "id": "FhXSbFQJ60RY",
        "outputId": "b355de97-7b18-426c-d15c-d56375c6f494"
      },
      "outputs": [],
      "source": [
        "b1 = sorted(glob.glob('/content/merge/train/images/*'))\n",
        "b2 = sorted(glob.glob('/content/merge/valid/images/*'))\n",
        "print(len(b1),len(b2))"
      ]
    },
    {
      "cell_type": "code",
      "execution_count": null,
      "metadata": {
        "colab": {
          "base_uri": "https://localhost:8080/"
        },
        "id": "3yW_58Nr7bCT",
        "outputId": "066fb6fe-cadd-473b-ca17-39c2501ae5f5"
      },
      "outputs": [],
      "source": [
        "import glob\n",
        "\n",
        "# 각 클래스의 이미지 경로를 가져오고 정렬\n",
        "b1 = sorted(glob.glob('/content/blood/test/images/*'))\n",
        "b2 = sorted(glob.glob('/content/ciga/test/images/*'))\n",
        "b3 = sorted(glob.glob('/content/drink/test/images/*'))\n",
        "b4 = sorted(glob.glob('/content/knife/test/images/*'))\n",
        "b5 = sorted(glob.glob('/content/gun/test/images/*'))\n",
        "\n",
        "# 각 클래스의 이미지 개수 출력\n",
        "print(\"blood : \" + str(len(b1)))\n",
        "print(\"ciga : \" + str(len(b2)))\n",
        "print(\"drink : \" + str(len(b3)))\n",
        "print(\"knife : \" + str(len(b4)))\n",
        "print(\"gun : \" + str(len(b5)))\n",
        "print(len(b1)+len(b2)+len(b3)+len(b4)+len(b5))"
      ]
    },
    {
      "cell_type": "code",
      "execution_count": null,
      "metadata": {
        "colab": {
          "base_uri": "https://localhost:8080/"
        },
        "id": "NIGm__A__Xy6",
        "outputId": "0e2ca91b-0f08-4137-afec-9bd0771c476e"
      },
      "outputs": [],
      "source": [
        "t1 = sorted(glob.glob('/content/blood/train/images/*'))\n",
        "t2 = sorted(glob.glob('/content/blood/valid/images/*'))\n",
        "t3 = sorted(glob.glob('/content/blood/test/images/*'))\n",
        "print(len(t1)+len(t2)+len(t3))"
      ]
    },
    {
      "cell_type": "code",
      "execution_count": null,
      "metadata": {
        "colab": {
          "base_uri": "https://localhost:8080/"
        },
        "id": "MmX2MGBABhYW",
        "outputId": "c5057852-322c-4aa7-b125-3a74bb457334"
      },
      "outputs": [],
      "source": [
        "t1 = sorted(glob.glob('/content/ciga/train/images/*'))\n",
        "t2 = sorted(glob.glob('/content/ciga/valid/images/*'))\n",
        "t3 = sorted(glob.glob('/content/ciga/test/images/*'))\n",
        "print(len(t1)+len(t2)+len(t3))"
      ]
    },
    {
      "cell_type": "code",
      "execution_count": null,
      "metadata": {
        "id": "6YMxGqW1D5wU"
      },
      "outputs": [],
      "source": [
        "from ultralytics import YOLO\n",
        "from google.colab import files\n",
        "\n",
        "# YOLO 모델 로드\n",
        "model = YOLO(\"/content/runs/detect/train3/weights/best.pt\")  # 파인튜닝된 YOLO 모델 경로\n",
        "\n",
        "# 모델을 ONNX 형식으로 내보내기\n",
        "onnx_path = \"/content/best.onnx\"\n",
        "model.export(format=\"onnx\", imgsz=640)\n",
        "\n",
        "# ONNX 파일 다운로드\n",
        "files.download(onnx_path)\n"
      ]
    },
    {
      "cell_type": "markdown",
      "metadata": {},
      "source": [
        "### 샘플 데이터셋"
      ]
    },
    {
      "cell_type": "code",
      "execution_count": null,
      "metadata": {},
      "outputs": [],
      "source": [
        "import os\n",
        "import zipfile\n",
        "with zipfile.ZipFile('hazardous_sample.zip', 'r') as zip_ref:\n",
        "    zip_ref.extractall('merge')\n",
        "    print('sample 압축 해제 완료')"
      ]
    },
    {
      "cell_type": "markdown",
      "metadata": {
        "id": "qApGsAOyt3_U"
      },
      "source": [
        "# **튜닝과정**"
      ]
    },
    {
      "cell_type": "code",
      "execution_count": null,
      "metadata": {
        "colab": {
          "base_uri": "https://localhost:8080/"
        },
        "id": "8dvadTcswMIC",
        "outputId": "2e1eb3fb-28d8-494b-858e-d9d7025ee938"
      },
      "outputs": [],
      "source": [
        "from ultralytics import YOLO, settings\n",
        "model = YOLO(\"yolo11n.pt\")"
      ]
    },
    {
      "cell_type": "code",
      "execution_count": null,
      "metadata": {
        "colab": {
          "base_uri": "https://localhost:8080/"
        },
        "id": "sJoNj0qS5g42",
        "outputId": "3878b93b-2605-4118-d9db-c6f71e3b4923"
      },
      "outputs": [],
      "source": [
        "# YOLO 모델 로드\n",
        "model = YOLO(\"yolo11n.pt\")  # YOLOv11 모델 경로\n",
        "\n",
        "# 하이퍼파라미터 탐색 공간 정의\n",
        "search_space = {\n",
        "    \"lr0\": [1e-4, 1e-2],          # 학습률\n",
        "    \"momentum\": [0.8, 0.98],      # 모멘텀\n",
        "    \"weight_decay\": [0, 0.001],   # 가중치 감소\n",
        "}\n",
        "\n",
        "# 하이퍼파라미터 튜닝 실행\n",
        "model.tune(\n",
        "    data=\"/content/merge/data.yaml\",  # 샘플 데이터셋 경로\n",
        "    epochs=1,              # 각 조합에 대해 학습할 Epoch 수 (줄임)\n",
        "    iterations=50,          # 하이퍼파라미터 조합 수 (줄임)\n",
        "    optimizer=\"AdamW\",      # 옵티마이저\n",
        "    space=search_space,     # 탐색 공간\n",
        "    plots=True,             # 결과 시각화\n",
        "    save=True,              # 결과 저장\n",
        "    val=True                # 검증 데이터 사용\n",
        ")"
      ]
    },
    {
      "cell_type": "code",
      "execution_count": 8,
      "metadata": {
        "id": "Sna3NbD8HRhv"
      },
      "outputs": [],
      "source": [
        "# learning rate = 0.01 momentum= 0.6 weigjt_decay 0.0004\n",
        "\n",
        "from ultralytics import YOLO\n",
        "\n",
        "# YOLO 모델 로드\n",
        "model = YOLO(\"yolo11n.pt\")  # YOLOv11 모델 경로"
      ]
    },
    {
      "cell_type": "markdown",
      "metadata": {},
      "source": [
        "### 일반 학습"
      ]
    },
    {
      "cell_type": "code",
      "execution_count": null,
      "metadata": {
        "colab": {
          "base_uri": "https://localhost:8080/"
        },
        "id": "YsAFpXwVKELC",
        "outputId": "d9ad1f81-bc45-4019-844a-fd8ad2fb5943"
      },
      "outputs": [],
      "source": [
        "model.train(model = '/content/yolo11n.pt',\n",
        "            data = '/content/merge/data.yaml',\n",
        "            epochs = 30,\n",
        "            imgsz = 640,\n",
        "            batch = 32\n",
        "            )"
      ]
    },
    {
      "cell_type": "markdown",
      "metadata": {},
      "source": [
        "### 튜닝 모델 학습"
      ]
    },
    {
      "cell_type": "code",
      "execution_count": null,
      "metadata": {
        "colab": {
          "base_uri": "https://localhost:8080/"
        },
        "id": "SfVk3_V1txXi",
        "outputId": "d321bb3e-e1e1-4326-a42f-109a19adeac5"
      },
      "outputs": [],
      "source": [
        "model.train(\n",
        "    data=\"/content/merge/data.yaml\",\n",
        "    epochs=30,\n",
        "    imgsz=640,\n",
        "    batch=32,\n",
        "    optimizer=\"adamW\",\n",
        "    lr0=0.01,\n",
        "    momentum=0.83181,\n",
        "    weight_decay=0.00049,\n",
        "    project=\"yolo_tuned\",\n",
        "    name=\"experiment\",\n",
        "    mosaic=0,         # Mosaic 증강 비활성화\n",
        "    mixup=0,          # Mixup 증강 비활성화\n",
        "    copy_paste=0,     # Copy-paste 증강 비활성화\n",
        "    augment=False     # 전체 데이터 증강 비활성화\n",
        ")\n"
      ]
    },
    {
      "cell_type": "markdown",
      "metadata": {
        "id": "Wj--T0puMPvV"
      },
      "source": [
        "# 담배 데이터셋 Face Class 제거\n"
      ]
    },
    {
      "cell_type": "code",
      "execution_count": null,
      "metadata": {
        "colab": {
          "base_uri": "https://localhost:8080/"
        },
        "collapsed": true,
        "id": "YELSPQD4p1Fa",
        "outputId": "8702bc4d-c9a8-4067-a220-39521a0a2624"
      },
      "outputs": [],
      "source": [
        "import os\n",
        "\n",
        "def remove_face_annotations_from_ciga(dataset_path):\n",
        "    \"\"\"\n",
        "    Removes all annotations for the 'face' class (class_id = 1) from YOLO dataset in ciga2 structure.\n",
        "\n",
        "    Args:\n",
        "        dataset_path (str): Path to the ciga2 dataset folder containing train, test, and valid subfolders.\n",
        "    \"\"\"\n",
        "    # Define subfolders (train, test, valid)\n",
        "    subfolders = ['train', 'test', 'valid']\n",
        "\n",
        "    for subfolder in subfolders:\n",
        "        labels_path = os.path.join(dataset_path, subfolder, \"labels\")  # Path to labels folder\n",
        "        if not os.path.exists(labels_path):\n",
        "            print(f\"Labels folder not found in {labels_path}. Skipping...\")\n",
        "            continue\n",
        "\n",
        "        # Iterate through all label files in the folder\n",
        "        for file_name in os.listdir(labels_path):\n",
        "            if file_name.endswith(\".txt\"):\n",
        "                file_path = os.path.join(labels_path, file_name)\n",
        "\n",
        "                # Read and filter out 'face' annotations (class_id = 1)\n",
        "                with open(file_path, \"r\") as file:\n",
        "                    lines = file.readlines()\n",
        "\n",
        "                # Remove lines with class_id = 1\n",
        "                new_lines = [line for line in lines if not line.startswith(\"1 \")]\n",
        "\n",
        "                # Overwrite the file with updated lines\n",
        "                with open(file_path, \"w\") as file:\n",
        "                    file.writelines(new_lines)\n",
        "\n",
        "                print(f\"Processed: {file_path}\")\n",
        "\n",
        "# Set the dataset path (replace this with the actual path to your ciga2 dataset)\n",
        "dataset_path = '/content/ciga'\n",
        "remove_face_annotations_from_ciga(dataset_path)\n"
      ]
    },
    {
      "cell_type": "code",
      "execution_count": null,
      "metadata": {
        "colab": {
          "base_uri": "https://localhost:8080/"
        },
        "id": "oeQhY8GRqaMT",
        "outputId": "d68110ca-be32-430b-faa8-d68098c3b6e9"
      },
      "outputs": [],
      "source": [
        "t1 = sorted(glob.glob('/content/ciga/valid/images/*'))\n",
        "print(len(t1))"
      ]
    },
    {
      "cell_type": "code",
      "execution_count": null,
      "metadata": {
        "colab": {
          "base_uri": "https://localhost:8080/"
        },
        "id": "gnf0OrL-7oZs",
        "outputId": "f2673234-f035-4ce7-b06c-599018eaa34e"
      },
      "outputs": [],
      "source": [
        "import os\n",
        "\n",
        "# 경로 설정\n",
        "label_dir = \"/content/ciga/valid/labels\"  # 라벨 파일이 있는 디렉토리\n",
        "image_dir = \"/content/ciga/valid/images\"  # 이미지 파일이 있는 디렉토리\n",
        "\n",
        "# 라벨 확인 및 삭제 함수\n",
        "def clean_empty_labels(label_dir, image_dir):\n",
        "    # 라벨 디렉토리의 모든 파일 탐색\n",
        "    for label_file in os.listdir(label_dir):\n",
        "        label_path = os.path.join(label_dir, label_file)\n",
        "\n",
        "        # 파일이 비어 있는지 확인\n",
        "        if os.path.getsize(label_path) == 0:  # 파일 크기가 0인 경우\n",
        "            print(f\"Empty label found and deleted: {label_file}\")\n",
        "            os.remove(label_path)  # 빈 라벨 파일 삭제\n",
        "\n",
        "            # 관련 이미지 파일 삭제\n",
        "            image_name = os.path.splitext(label_file)[0] + \".jpg\"  # 이미지 파일 확장자 확인 (예: .jpg)\n",
        "            image_path = os.path.join(image_dir, image_name)\n",
        "            if os.path.exists(image_path):\n",
        "                print(f\"Related image deleted: {image_name}\")\n",
        "                os.remove(image_path)\n",
        "\n",
        "# 실행\n",
        "clean_empty_labels(label_dir, image_dir)\n"
      ]
    },
    {
      "cell_type": "markdown",
      "metadata": {
        "id": "Y6NNzCelMY98"
      },
      "source": [
        "# 데이터셋 및 모델 저장"
      ]
    },
    {
      "cell_type": "code",
      "execution_count": null,
      "metadata": {
        "colab": {
          "base_uri": "https://localhost:8080/",
          "height": 320
        },
        "id": "pMhhvw5L9h0E",
        "outputId": "dcf73fed-c70b-4085-d124-cf0081fe23e4"
      },
      "outputs": [],
      "source": [
        "import shutil\n",
        "\n",
        "# 압축할 폴더 경로\n",
        "folder_to_compress = \"/content/merge\"\n",
        "# 압축 파일 이름 (확장자는 제외)\n",
        "output_filename = \"/content/merge_data_f\"\n",
        "\n",
        "# 폴더를 zip 파일로 압축\n",
        "shutil.make_archive(output_filename, 'zip', folder_to_compress)\n"
      ]
    },
    {
      "cell_type": "code",
      "execution_count": null,
      "metadata": {
        "colab": {
          "base_uri": "https://localhost:8080/",
          "height": 943
        },
        "id": "KW6J4MEEjRui",
        "outputId": "0a642822-d435-4439-8992-78d3aee6b903"
      },
      "outputs": [],
      "source": [
        "model.export(format=\"onnx\")"
      ]
    },
    {
      "cell_type": "code",
      "execution_count": null,
      "metadata": {
        "colab": {
          "base_uri": "https://localhost:8080/"
        },
        "id": "ICeep_W6Mty_",
        "outputId": "b111dde4-931b-4307-dfe3-1d65fc5330d4"
      },
      "outputs": [],
      "source": [
        "import os\n",
        "import zipfile\n",
        "with zipfile.ZipFile('merge_data_f.zip', 'r') as zip_ref:\n",
        "    zip_ref.extractall('merge')\n",
        "    print('test 압축 해제 완료')"
      ]
    },
    {
      "cell_type": "code",
      "execution_count": null,
      "metadata": {
        "colab": {
          "base_uri": "https://localhost:8080/",
          "height": 310
        },
        "id": "J-EMkp01A43n",
        "outputId": "6ee9cd18-138b-4ff0-9f02-e8055c071c90"
      },
      "outputs": [],
      "source": [
        "from ultralytics import YOLO\n",
        "from google.colab import files\n",
        "\n",
        "# YOLO 모델 로드\n",
        "model = YOLO(\"/content/yolo_tuned/experiment/weights/best.pt\")  # 파인튜닝된 YOLO 모델 경로\n",
        "\n",
        "# 모델을 ONNX 형식으로 내보내기\n",
        "onnx_path = \"/content/best.onnx\"\n",
        "model.export(format=\"onnx\", imgsz=640)\n"
      ]
    }
  ],
  "metadata": {
    "accelerator": "GPU",
    "colab": {
      "collapsed_sections": [
        "FeYK546LaK4P",
        "DHsEVT6o9D9L",
        "nlWdA1o49IR0",
        "C6IBmFtQ9J2D",
        "VDaeHhcL9LqV",
        "Wj--T0puMPvV"
      ],
      "gpuType": "L4",
      "machine_shape": "hm",
      "provenance": []
    },
    "kernelspec": {
      "display_name": "Python 3",
      "name": "python3"
    },
    "language_info": {
      "name": "python"
    }
  },
  "nbformat": 4,
  "nbformat_minor": 0
}
